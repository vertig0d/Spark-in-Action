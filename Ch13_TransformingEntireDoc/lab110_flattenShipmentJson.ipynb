{
 "cells": [
  {
   "cell_type": "code",
   "execution_count": 1,
   "metadata": {},
   "outputs": [],
   "source": [
    "import findspark\n",
    "findspark.init('/home/gani/spark-2.4.4-bin-hadoop2.7')"
   ]
  },
  {
   "cell_type": "code",
   "execution_count": 3,
   "metadata": {},
   "outputs": [],
   "source": [
    "from pyspark.sql import SparkSession, functions as F\n",
    "spark = SparkSession.builder.appName('flatenShip').getOrCreate()"
   ]
  },
  {
   "cell_type": "code",
   "execution_count": 26,
   "metadata": {},
   "outputs": [],
   "source": [
    "df = spark.read.json('shipment.json', multiLine=True)"
   ]
  },
  {
   "cell_type": "code",
   "execution_count": 27,
   "metadata": {},
   "outputs": [
    {
     "name": "stdout",
     "output_type": "stream",
     "text": [
      "root\n",
      " |-- books: array (nullable = true)\n",
      " |    |-- element: struct (containsNull = true)\n",
      " |    |    |-- qty: long (nullable = true)\n",
      " |    |    |-- title: string (nullable = true)\n",
      " |-- customer: struct (nullable = true)\n",
      " |    |-- city: string (nullable = true)\n",
      " |    |-- country: string (nullable = true)\n",
      " |    |-- name: string (nullable = true)\n",
      " |    |-- state: string (nullable = true)\n",
      " |-- date: string (nullable = true)\n",
      " |-- shipmentId: long (nullable = true)\n",
      " |-- supplier: struct (nullable = true)\n",
      " |    |-- city: string (nullable = true)\n",
      " |    |-- country: string (nullable = true)\n",
      " |    |-- name: string (nullable = true)\n",
      " |    |-- state: string (nullable = true)\n",
      "\n"
     ]
    }
   ],
   "source": [
    "df.printSchema()"
   ]
  },
  {
   "cell_type": "code",
   "execution_count": 19,
   "metadata": {},
   "outputs": [],
   "source": [
    "df = df \\\n",
    "    .withColumn(\"supplier_name\", F.col(\"supplier.name\")) \\\n",
    "    .withColumn(\"supplier_city\", F.col(\"supplier.city\")) \\\n",
    "    .withColumn(\"supplier_state\", F.col(\"supplier.state\")) \\\n",
    "    .withColumn(\"supplier_country\", F.col(\"supplier.country\")) \\\n",
    "    .drop(\"supplier\") \\\n",
    "    .withColumn(\"customer_name\", F.col(\"customer.name\")) \\\n",
    "    .withColumn(\"customer_city\", F.col(\"customer.city\")) \\\n",
    "    .withColumn(\"customer_state\", F.col(\"customer.state\")) \\\n",
    "    .withColumn(\"customer_country\", F.col(\"customer.country\")) \\\n",
    "    .drop(\"customer\") \\\n",
    "    .withColumn('items',F.explode(F.col('books')))"
   ]
  },
  {
   "cell_type": "code",
   "execution_count": 8,
   "metadata": {},
   "outputs": [
    {
     "data": {
      "text/plain": [
       "[Row(books=[Row(qty=2, title='Spark with Java'), Row(qty=25, title='Spark in Action, 2nd Edition'), Row(qty=1, title='Spark in Action, 1st Edition')], date='2019-10-05', shipmentId=458922, supplier_name='Manning Publications', supplier_city='Shelter Island', supplier_state='New York', supplier_country='USA', customer_name='Jean Georges Perrin', customer_city='Chapel Hill', customer_state='North Carolina', customer_country='USA', items=Row(qty=2, title='Spark with Java'))]"
      ]
     },
     "execution_count": 8,
     "metadata": {},
     "output_type": "execute_result"
    }
   ],
   "source": [
    "df.head(1)"
   ]
  },
  {
   "cell_type": "code",
   "execution_count": 20,
   "metadata": {},
   "outputs": [],
   "source": [
    "df = df.withColumn('qty', F.col('items.qty')) \\\n",
    "        .withColumn('title', F.col('items.title')) \\\n",
    "        .drop('items') \\\n",
    "        .drop('books')"
   ]
  },
  {
   "cell_type": "code",
   "execution_count": 21,
   "metadata": {},
   "outputs": [
    {
     "name": "stdout",
     "output_type": "stream",
     "text": [
      "root\n",
      " |-- date: string (nullable = true)\n",
      " |-- shipmentId: long (nullable = true)\n",
      " |-- supplier_name: string (nullable = true)\n",
      " |-- supplier_city: string (nullable = true)\n",
      " |-- supplier_state: string (nullable = true)\n",
      " |-- supplier_country: string (nullable = true)\n",
      " |-- customer_name: string (nullable = true)\n",
      " |-- customer_city: string (nullable = true)\n",
      " |-- customer_state: string (nullable = true)\n",
      " |-- customer_country: string (nullable = true)\n",
      " |-- qty: long (nullable = true)\n",
      " |-- title: string (nullable = true)\n",
      "\n"
     ]
    }
   ],
   "source": [
    "df.printSchema()"
   ]
  },
  {
   "cell_type": "code",
   "execution_count": 22,
   "metadata": {},
   "outputs": [],
   "source": [
    "df.createOrReplaceTempView('ship_detail')"
   ]
  },
  {
   "cell_type": "code",
   "execution_count": 23,
   "metadata": {},
   "outputs": [],
   "source": [
    "sqlQuery = 'select count(*) as bookCount from ship_detail'"
   ]
  },
  {
   "cell_type": "code",
   "execution_count": 24,
   "metadata": {},
   "outputs": [],
   "source": [
    "bookCountDF = spark.sql(sqlQuery)"
   ]
  },
  {
   "cell_type": "code",
   "execution_count": 25,
   "metadata": {},
   "outputs": [
    {
     "name": "stdout",
     "output_type": "stream",
     "text": [
      "+---------+\n",
      "|bookCount|\n",
      "+---------+\n",
      "|        3|\n",
      "+---------+\n",
      "\n"
     ]
    }
   ],
   "source": [
    "bookCountDF.show()"
   ]
  },
  {
   "cell_type": "code",
   "execution_count": null,
   "metadata": {},
   "outputs": [],
   "source": []
  }
 ],
 "metadata": {
  "kernelspec": {
   "display_name": "Python 3",
   "language": "python",
   "name": "python3"
  },
  "language_info": {
   "codemirror_mode": {
    "name": "ipython",
    "version": 3
   },
   "file_extension": ".py",
   "mimetype": "text/x-python",
   "name": "python",
   "nbconvert_exporter": "python",
   "pygments_lexer": "ipython3",
   "version": "3.6.9"
  }
 },
 "nbformat": 4,
 "nbformat_minor": 4
}
