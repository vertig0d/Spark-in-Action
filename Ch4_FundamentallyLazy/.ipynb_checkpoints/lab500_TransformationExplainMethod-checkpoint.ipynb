{
 "cells": [
  {
   "cell_type": "code",
   "execution_count": 1,
   "metadata": {},
   "outputs": [],
   "source": [
    "import findspark\n",
    "findspark.init('/home/gani/spark-2.4.4-bin-hadoop2.7')"
   ]
  },
  {
   "cell_type": "code",
   "execution_count": 2,
   "metadata": {},
   "outputs": [],
   "source": [
    "from pyspark.sql import SparkSession\n",
    "from pyspark.sql.functions import col, expr"
   ]
  },
  {
   "cell_type": "code",
   "execution_count": 3,
   "metadata": {},
   "outputs": [],
   "source": [
    "spark = SparkSession.builder.appName('ch4ExplainFunction').getOrCreate()"
   ]
  },
  {
   "cell_type": "code",
   "execution_count": 4,
   "metadata": {},
   "outputs": [],
   "source": [
    "df = spark.read.csv('NCHS_-_Teen_Birth_Rates_for_Age_Group_15-19_in_the_United_States_by_County.csv',\n",
    "                   inferSchema=True,header=True)"
   ]
  },
  {
   "cell_type": "code",
   "execution_count": 5,
   "metadata": {},
   "outputs": [],
   "source": [
    "df0 = df"
   ]
  },
  {
   "cell_type": "code",
   "execution_count": 6,
   "metadata": {},
   "outputs": [],
   "source": [
    "df = df.union(df0)"
   ]
  },
  {
   "cell_type": "code",
   "execution_count": 10,
   "metadata": {},
   "outputs": [],
   "source": [
    "df = df.withColumnRenamed('Lower Confidence Limit','lcl') \\\n",
    "        .withColumnRenamed('Upper Confidence Limit','ucl')"
   ]
  },
  {
   "cell_type": "code",
   "execution_count": 11,
   "metadata": {},
   "outputs": [
    {
     "name": "stdout",
     "output_type": "stream",
     "text": [
      "+----+-------+-------+---------------+----------------+------------------+----------+---------+---------+\n",
      "|Year|  State| County|State FIPS Code|County FIPS Code|Combined FIPS Code|Birth Rate|      lcl|      ucl|\n",
      "+----+-------+-------+---------------+----------------+------------------+----------+---------+---------+\n",
      "|2003|Alabama|Autauga|              1|               1|              1001| 46.377215|40.683107|52.508481|\n",
      "|2004|Alabama|Autauga|              1|               1|              1001| 46.050618|41.084735|51.340795|\n",
      "|2005|Alabama|Autauga|              1|               1|              1001| 43.941062|39.513897|48.646647|\n",
      "|2006|Alabama|Autauga|              1|               1|              1001| 43.826654|39.570766|48.345353|\n",
      "|2007|Alabama|Autauga|              1|               1|              1001| 43.757806|39.573448|48.199268|\n",
      "|2008|Alabama|Autauga|              1|               1|              1001| 42.169739|38.130402|46.458997|\n",
      "|2009|Alabama|Autauga|              1|               1|              1001|  38.70931|34.932726|42.724053|\n",
      "|2010|Alabama|Autauga|              1|               1|              1001| 34.948071|31.415432|38.714537|\n",
      "|2011|Alabama|Autauga|              1|               1|              1001| 31.778155|28.437291|35.348937|\n",
      "|2012|Alabama|Autauga|              1|               1|              1001| 30.197146|26.889883|33.738191|\n",
      "|2013|Alabama|Autauga|              1|               1|              1001| 27.873782|24.638898|31.347759|\n",
      "|2014|Alabama|Autauga|              1|               1|              1001| 25.653807|22.413857|29.156865|\n",
      "|2015|Alabama|Autauga|              1|               1|              1001| 23.982563|20.576748|27.714187|\n",
      "|2003|Alabama|Baldwin|              1|               3|              1003| 46.906284|42.757313|51.269543|\n",
      "|2004|Alabama|Baldwin|              1|               3|              1003| 46.887848|43.302008|50.637666|\n",
      "|2005|Alabama|Baldwin|              1|               3|              1003| 47.290569|43.847175|50.888176|\n",
      "|2006|Alabama|Baldwin|              1|               3|              1003| 50.343271|46.793824|54.046465|\n",
      "|2007|Alabama|Baldwin|              1|               3|              1003| 52.018982|48.413979|55.777041|\n",
      "|2008|Alabama|Baldwin|              1|               3|              1003| 50.412586|46.903067|54.072165|\n",
      "|2009|Alabama|Baldwin|              1|               3|              1003| 45.971712|42.693815|49.393917|\n",
      "+----+-------+-------+---------------+----------------+------------------+----------+---------+---------+\n",
      "only showing top 20 rows\n",
      "\n"
     ]
    }
   ],
   "source": [
    "df.show()"
   ]
  },
  {
   "cell_type": "code",
   "execution_count": 12,
   "metadata": {},
   "outputs": [],
   "source": [
    "df = df.withColumn('avg', expr('(lcl+ucl)/2')) \\\n",
    "        .withColumn('lcl2', col('lcl')) \\\n",
    "        .withColumn('ucl2',col('ucl'))"
   ]
  },
  {
   "cell_type": "code",
   "execution_count": 13,
   "metadata": {},
   "outputs": [
    {
     "name": "stdout",
     "output_type": "stream",
     "text": [
      "+----+-------+-------+---------------+----------------+------------------+----------+---------+---------+------------------+---------+---------+\n",
      "|Year|  State| County|State FIPS Code|County FIPS Code|Combined FIPS Code|Birth Rate|      lcl|      ucl|               avg|     lcl2|     ucl2|\n",
      "+----+-------+-------+---------------+----------------+------------------+----------+---------+---------+------------------+---------+---------+\n",
      "|2003|Alabama|Autauga|              1|               1|              1001| 46.377215|40.683107|52.508481|         46.595794|40.683107|52.508481|\n",
      "|2004|Alabama|Autauga|              1|               1|              1001| 46.050618|41.084735|51.340795|46.212765000000005|41.084735|51.340795|\n",
      "|2005|Alabama|Autauga|              1|               1|              1001| 43.941062|39.513897|48.646647|         44.080272|39.513897|48.646647|\n",
      "|2006|Alabama|Autauga|              1|               1|              1001| 43.826654|39.570766|48.345353|43.958059500000005|39.570766|48.345353|\n",
      "|2007|Alabama|Autauga|              1|               1|              1001| 43.757806|39.573448|48.199268|         43.886358|39.573448|48.199268|\n",
      "|2008|Alabama|Autauga|              1|               1|              1001| 42.169739|38.130402|46.458997| 42.29469949999999|38.130402|46.458997|\n",
      "|2009|Alabama|Autauga|              1|               1|              1001|  38.70931|34.932726|42.724053|        38.8283895|34.932726|42.724053|\n",
      "|2010|Alabama|Autauga|              1|               1|              1001| 34.948071|31.415432|38.714537|        35.0649845|31.415432|38.714537|\n",
      "|2011|Alabama|Autauga|              1|               1|              1001| 31.778155|28.437291|35.348937|31.893113999999997|28.437291|35.348937|\n",
      "|2012|Alabama|Autauga|              1|               1|              1001| 30.197146|26.889883|33.738191|         30.314037|26.889883|33.738191|\n",
      "|2013|Alabama|Autauga|              1|               1|              1001| 27.873782|24.638898|31.347759|        27.9933285|24.638898|31.347759|\n",
      "|2014|Alabama|Autauga|              1|               1|              1001| 25.653807|22.413857|29.156865|         25.785361|22.413857|29.156865|\n",
      "|2015|Alabama|Autauga|              1|               1|              1001| 23.982563|20.576748|27.714187|        24.1454675|20.576748|27.714187|\n",
      "|2003|Alabama|Baldwin|              1|               3|              1003| 46.906284|42.757313|51.269543|47.013428000000005|42.757313|51.269543|\n",
      "|2004|Alabama|Baldwin|              1|               3|              1003| 46.887848|43.302008|50.637666|         46.969837|43.302008|50.637666|\n",
      "|2005|Alabama|Baldwin|              1|               3|              1003| 47.290569|43.847175|50.888176|47.367675500000004|43.847175|50.888176|\n",
      "|2006|Alabama|Baldwin|              1|               3|              1003| 50.343271|46.793824|54.046465|        50.4201445|46.793824|54.046465|\n",
      "|2007|Alabama|Baldwin|              1|               3|              1003| 52.018982|48.413979|55.777041|          52.09551|48.413979|55.777041|\n",
      "|2008|Alabama|Baldwin|              1|               3|              1003| 50.412586|46.903067|54.072165|         50.487616|46.903067|54.072165|\n",
      "|2009|Alabama|Baldwin|              1|               3|              1003| 45.971712|42.693815|49.393917|         46.043866|42.693815|49.393917|\n",
      "+----+-------+-------+---------------+----------------+------------------+----------+---------+---------+------------------+---------+---------+\n",
      "only showing top 20 rows\n",
      "\n"
     ]
    }
   ],
   "source": [
    "df.show()"
   ]
  },
  {
   "cell_type": "code",
   "execution_count": 14,
   "metadata": {},
   "outputs": [
    {
     "data": {
      "text/plain": [
       "[Row(Year=2003, State='Alabama', County='Autauga', State FIPS Code=1, County FIPS Code=1, Combined FIPS Code=1001, Birth Rate=46.377215, lcl=40.683107, ucl=52.508481, avg=46.595794, lcl2=40.683107, ucl2=52.508481)]"
      ]
     },
     "execution_count": 14,
     "metadata": {},
     "output_type": "execute_result"
    }
   ],
   "source": [
    "df.head(1)"
   ]
  },
  {
   "cell_type": "code",
   "execution_count": 15,
   "metadata": {},
   "outputs": [
    {
     "name": "stdout",
     "output_type": "stream",
     "text": [
      "== Physical Plan ==\n",
      "Union\n",
      ":- *(1) Project [Year#10, State#11, County#12, State FIPS Code#13, County FIPS Code#14, Combined FIPS Code#15, Birth Rate#16, Lower Confidence Limit#17 AS lcl#147, Upper Confidence Limit#18 AS ucl#157, ((Lower Confidence Limit#17 + Upper Confidence Limit#18) / 2.0) AS avg#221, Lower Confidence Limit#17 AS lcl2#232, Upper Confidence Limit#18 AS ucl2#244]\n",
      ":  +- *(1) FileScan csv [Year#10,State#11,County#12,State FIPS Code#13,County FIPS Code#14,Combined FIPS Code#15,Birth Rate#16,Lower Confidence Limit#17,Upper Confidence Limit#18] Batched: false, Format: CSV, Location: InMemoryFileIndex[file:/home/gani/GitRepos/sparkInAction/Ch4_FundamentallyLazy/NCHS_-_Teen_Birth_..., PartitionFilters: [], PushedFilters: [], ReadSchema: struct<Year:int,State:string,County:string,State FIPS Code:int,County FIPS Code:int,Combined FIPS...\n",
      "+- *(2) Project [Year#10, State#11, County#12, State FIPS Code#13, County FIPS Code#14, Combined FIPS Code#15, Birth Rate#16, Lower Confidence Limit#17 AS lcl#346, Upper Confidence Limit#18 AS ucl#347, ((Lower Confidence Limit#17 + Upper Confidence Limit#18) / 2.0) AS avg#348, Lower Confidence Limit#17 AS lcl2#349, Upper Confidence Limit#18 AS ucl2#350]\n",
      "   +- *(2) FileScan csv [Year#10,State#11,County#12,State FIPS Code#13,County FIPS Code#14,Combined FIPS Code#15,Birth Rate#16,Lower Confidence Limit#17,Upper Confidence Limit#18] Batched: false, Format: CSV, Location: InMemoryFileIndex[file:/home/gani/GitRepos/sparkInAction/Ch4_FundamentallyLazy/NCHS_-_Teen_Birth_..., PartitionFilters: [], PushedFilters: [], ReadSchema: struct<Year:int,State:string,County:string,State FIPS Code:int,County FIPS Code:int,Combined FIPS...\n"
     ]
    }
   ],
   "source": [
    "df.explain()"
   ]
  },
  {
   "cell_type": "code",
   "execution_count": 16,
   "metadata": {},
   "outputs": [],
   "source": [
    "spark.stop()"
   ]
  },
  {
   "cell_type": "code",
   "execution_count": null,
   "metadata": {},
   "outputs": [],
   "source": []
  }
 ],
 "metadata": {
  "kernelspec": {
   "display_name": "Python 3",
   "language": "python",
   "name": "python3"
  },
  "language_info": {
   "codemirror_mode": {
    "name": "ipython",
    "version": 3
   },
   "file_extension": ".py",
   "mimetype": "text/x-python",
   "name": "python",
   "nbconvert_exporter": "python",
   "pygments_lexer": "ipython3",
   "version": "3.6.9"
  }
 },
 "nbformat": 4,
 "nbformat_minor": 4
}
