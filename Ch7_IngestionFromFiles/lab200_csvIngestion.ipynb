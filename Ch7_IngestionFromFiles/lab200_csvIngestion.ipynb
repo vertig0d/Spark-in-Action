{
 "cells": [
  {
   "cell_type": "code",
   "execution_count": 1,
   "metadata": {},
   "outputs": [],
   "source": [
    "import findspark\n",
    "findspark.init('/home/gani/spark-2.4.4-bin-hadoop2.7')"
   ]
  },
  {
   "cell_type": "code",
   "execution_count": 2,
   "metadata": {},
   "outputs": [],
   "source": [
    "from pyspark.sql import SparkSession"
   ]
  },
  {
   "cell_type": "code",
   "execution_count": 3,
   "metadata": {},
   "outputs": [],
   "source": [
    "spark = SparkSession.builder.appName('csvIngest').getOrCreate()"
   ]
  },
  {
   "cell_type": "code",
   "execution_count": 5,
   "metadata": {},
   "outputs": [],
   "source": [
    "df = spark.read.format('csv') \\\n",
    "                .option('header','true') \\\n",
    "                .option('inferSchema',True) \\\n",
    "                .option('multiline', True) \\\n",
    "                .option('sep',';') \\\n",
    "                .option('quote','*') \\\n",
    "                .option('dateFormat','MM/dd/yyyy') \\\n",
    "                .load('books.csv')"
   ]
  },
  {
   "cell_type": "code",
   "execution_count": 8,
   "metadata": {},
   "outputs": [
    {
     "name": "stdout",
     "output_type": "stream",
     "text": [
      "+---+--------+----------------------------------------------------------------------+-----------+-----------------------+\n",
      "| id|authorId|                                                                 title|releaseDate|                  link\r",
      "|\n",
      "+---+--------+----------------------------------------------------------------------+-----------+-----------------------+\n",
      "|  1|       1|      Fantastic Beasts and Where to Find Them: The Original Screenplay| 11/18/2016|http://amzn.to/2kup94P\r",
      "|\n",
      "|  2|       1|Harry Potter and the Sorcerer's Stone: The Illustrated Edition (Har...| 10/06/2015|http://amzn.to/2l2lSwP\r",
      "|\n",
      "|  3|       1|         The Tales of Beedle the Bard, Standard Edition (Harry Potter)| 12/04/2008|http://amzn.to/2kYezqr\r",
      "|\n",
      "|  4|       1|Harry Potter and the Chamber of Secrets: The Illustrated Edition (H...| 10/04/2016|http://amzn.to/2kYhL5n\r",
      "|\n",
      "|  5|       2|Informix 12.10 on Mac 10.12 with a dash of Java 8: The Tale of the ...| 04/23/2017|http://amzn.to/2i3mthT\r",
      "|\n",
      "|  6|       2|Development Tools in 2006: any Room for a 4GL-style Language? \r\n",
      "An ...| 12/28/2016|http://amzn.to/2vBxOe1\r",
      "|\n",
      "|  7|       3|                                        Adventures of Huckleberry Finn| 05/26/1994|http://amzn.to/2wOeOav\r",
      "|\n",
      "+---+--------+----------------------------------------------------------------------+-----------+-----------------------+\n",
      "only showing top 7 rows\n",
      "\n"
     ]
    }
   ],
   "source": [
    "df.show(7,70)"
   ]
  },
  {
   "cell_type": "code",
   "execution_count": 7,
   "metadata": {},
   "outputs": [
    {
     "name": "stdout",
     "output_type": "stream",
     "text": [
      "root\n",
      " |-- id: integer (nullable = true)\n",
      " |-- authorId: integer (nullable = true)\n",
      " |-- title: string (nullable = true)\n",
      " |-- releaseDate: string (nullable = true)\n",
      " |-- link\r",
      ": string (nullable = true)\n",
      "\n"
     ]
    }
   ],
   "source": [
    "df.printSchema()"
   ]
  },
  {
   "cell_type": "code",
   "execution_count": 10,
   "metadata": {},
   "outputs": [],
   "source": [
    "spark.stop() #stops sparkContext, i believe doesnt do much here as i am using spark session. will update if i am wrong"
   ]
  },
  {
   "cell_type": "code",
   "execution_count": 11,
   "metadata": {},
   "outputs": [
    {
     "data": {
      "text/plain": [
       "'2.4.4'"
      ]
     },
     "execution_count": 11,
     "metadata": {},
     "output_type": "execute_result"
    }
   ],
   "source": [
    "spark.version"
   ]
  },
  {
   "cell_type": "code",
   "execution_count": null,
   "metadata": {},
   "outputs": [],
   "source": []
  }
 ],
 "metadata": {
  "kernelspec": {
   "display_name": "Python 3",
   "language": "python",
   "name": "python3"
  },
  "language_info": {
   "codemirror_mode": {
    "name": "ipython",
    "version": 3
   },
   "file_extension": ".py",
   "mimetype": "text/x-python",
   "name": "python",
   "nbconvert_exporter": "python",
   "pygments_lexer": "ipython3",
   "version": "3.6.9"
  }
 },
 "nbformat": 4,
 "nbformat_minor": 4
}
