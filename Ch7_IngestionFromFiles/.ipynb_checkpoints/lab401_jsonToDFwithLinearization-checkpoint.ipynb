{
 "cells": [
  {
   "cell_type": "code",
   "execution_count": 1,
   "metadata": {},
   "outputs": [],
   "source": [
    "import findspark\n",
    "findspark.init('/home/gani/spark-2.4.4-bin-hadoop2.7')"
   ]
  },
  {
   "cell_type": "code",
   "execution_count": 4,
   "metadata": {},
   "outputs": [],
   "source": [
    "from pyspark.sql import SparkSession\n",
    "from pyspark.sql.functions import col"
   ]
  },
  {
   "cell_type": "code",
   "execution_count": 5,
   "metadata": {},
   "outputs": [],
   "source": [
    "spark = SparkSession.builder.appName('json2DF').getOrCreate()"
   ]
  },
  {
   "cell_type": "code",
   "execution_count": 6,
   "metadata": {},
   "outputs": [],
   "source": [
    "df = spark.read.json('durham-nc-foreclosure-2006-2016.json')"
   ]
  },
  {
   "cell_type": "code",
   "execution_count": 7,
   "metadata": {},
   "outputs": [
    {
     "name": "stdout",
     "output_type": "stream",
     "text": [
      "+--------------------+--------------------+--------------------+--------------------+--------------------+\n",
      "|           datasetid|              fields|            geometry|    record_timestamp|            recordid|\n",
      "+--------------------+--------------------+--------------------+--------------------+--------------------+\n",
      "|foreclosure-2006-...|[217 E CORPORATIO...|[[-78.8922549, 36...|2017-03-06T12:41:...|629979c85b1cc68c1...|\n",
      "|foreclosure-2006-...|[401 N QUEEN ST, ...|[[-78.895396, 35....|2017-03-06T12:41:...|e3cce8bbc3c9b804c...|\n",
      "|foreclosure-2006-...|[403 N QUEEN ST, ...|[[-78.8950321, 35...|2017-03-06T12:41:...|311559ebfeffe7ebc...|\n",
      "|foreclosure-2006-...|[918 GILBERT ST, ...|[[-78.8873774, 35...|2017-03-06T12:41:...|7ec0761bd385bab8a...|\n",
      "|foreclosure-2006-...|[721 LIBERTY ST, ...|[[-78.888343, 35....|2017-03-06T12:41:...|c81ae2921ffca8125...|\n",
      "+--------------------+--------------------+--------------------+--------------------+--------------------+\n",
      "only showing top 5 rows\n",
      "\n"
     ]
    }
   ],
   "source": [
    "df.show(5)"
   ]
  },
  {
   "cell_type": "code",
   "execution_count": 8,
   "metadata": {},
   "outputs": [
    {
     "name": "stdout",
     "output_type": "stream",
     "text": [
      "root\n",
      " |-- datasetid: string (nullable = true)\n",
      " |-- fields: struct (nullable = true)\n",
      " |    |-- address: string (nullable = true)\n",
      " |    |-- geocode: array (nullable = true)\n",
      " |    |    |-- element: double (containsNull = true)\n",
      " |    |-- parcel_number: string (nullable = true)\n",
      " |    |-- year: string (nullable = true)\n",
      " |-- geometry: struct (nullable = true)\n",
      " |    |-- coordinates: array (nullable = true)\n",
      " |    |    |-- element: double (containsNull = true)\n",
      " |    |-- type: string (nullable = true)\n",
      " |-- record_timestamp: string (nullable = true)\n",
      " |-- recordid: string (nullable = true)\n",
      "\n"
     ]
    }
   ],
   "source": [
    "df.printSchema()"
   ]
  },
  {
   "cell_type": "code",
   "execution_count": 10,
   "metadata": {},
   "outputs": [],
   "source": [
    "df = df.withColumn('year', col('fields.year')) \\\n",
    "        .withColumn('coordinates', col('geometry.coordinates'))"
   ]
  },
  {
   "cell_type": "code",
   "execution_count": 11,
   "metadata": {},
   "outputs": [
    {
     "name": "stdout",
     "output_type": "stream",
     "text": [
      "+--------------------+--------------------+--------------------+--------------------+--------------------+----+--------------------+\n",
      "|           datasetid|              fields|            geometry|    record_timestamp|            recordid|year|         coordinates|\n",
      "+--------------------+--------------------+--------------------+--------------------+--------------------+----+--------------------+\n",
      "|foreclosure-2006-...|[217 E CORPORATIO...|[[-78.8922549, 36...|2017-03-06T12:41:...|629979c85b1cc68c1...|2006|[-78.8922549, 36....|\n",
      "|foreclosure-2006-...|[401 N QUEEN ST, ...|[[-78.895396, 35....|2017-03-06T12:41:...|e3cce8bbc3c9b804c...|2006|[-78.895396, 35.9...|\n",
      "|foreclosure-2006-...|[403 N QUEEN ST, ...|[[-78.8950321, 35...|2017-03-06T12:41:...|311559ebfeffe7ebc...|2006|[-78.8950321, 35....|\n",
      "|foreclosure-2006-...|[918 GILBERT ST, ...|[[-78.8873774, 35...|2017-03-06T12:41:...|7ec0761bd385bab8a...|2006|[-78.8873774, 35....|\n",
      "|foreclosure-2006-...|[721 LIBERTY ST, ...|[[-78.888343, 35....|2017-03-06T12:41:...|c81ae2921ffca8125...|2006|[-78.888343, 35.9...|\n",
      "+--------------------+--------------------+--------------------+--------------------+--------------------+----+--------------------+\n",
      "only showing top 5 rows\n",
      "\n"
     ]
    }
   ],
   "source": [
    "df.show(5)"
   ]
  },
  {
   "cell_type": "code",
   "execution_count": 12,
   "metadata": {},
   "outputs": [
    {
     "name": "stdout",
     "output_type": "stream",
     "text": [
      "root\n",
      " |-- datasetid: string (nullable = true)\n",
      " |-- fields: struct (nullable = true)\n",
      " |    |-- address: string (nullable = true)\n",
      " |    |-- geocode: array (nullable = true)\n",
      " |    |    |-- element: double (containsNull = true)\n",
      " |    |-- parcel_number: string (nullable = true)\n",
      " |    |-- year: string (nullable = true)\n",
      " |-- geometry: struct (nullable = true)\n",
      " |    |-- coordinates: array (nullable = true)\n",
      " |    |    |-- element: double (containsNull = true)\n",
      " |    |-- type: string (nullable = true)\n",
      " |-- record_timestamp: string (nullable = true)\n",
      " |-- recordid: string (nullable = true)\n",
      " |-- year: string (nullable = true)\n",
      " |-- coordinates: array (nullable = true)\n",
      " |    |-- element: double (containsNull = true)\n",
      "\n"
     ]
    }
   ],
   "source": [
    "df.printSchema()"
   ]
  },
  {
   "cell_type": "code",
   "execution_count": null,
   "metadata": {},
   "outputs": [],
   "source": []
  }
 ],
 "metadata": {
  "kernelspec": {
   "display_name": "Python 3",
   "language": "python",
   "name": "python3"
  },
  "language_info": {
   "codemirror_mode": {
    "name": "ipython",
    "version": 3
   },
   "file_extension": ".py",
   "mimetype": "text/x-python",
   "name": "python",
   "nbconvert_exporter": "python",
   "pygments_lexer": "ipython3",
   "version": "3.6.9"
  }
 },
 "nbformat": 4,
 "nbformat_minor": 4
}
