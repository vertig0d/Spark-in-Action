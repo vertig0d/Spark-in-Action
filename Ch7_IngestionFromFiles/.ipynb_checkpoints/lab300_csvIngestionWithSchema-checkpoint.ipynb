{
 "cells": [
  {
   "cell_type": "code",
   "execution_count": 2,
   "metadata": {},
   "outputs": [],
   "source": [
    "import findspark\n",
    "findspark.init('/home/gani/spark-2.4.4-bin-hadoop2.7')"
   ]
  },
  {
   "cell_type": "code",
   "execution_count": 3,
   "metadata": {},
   "outputs": [],
   "source": [
    "from pyspark.sql import SparkSession\n",
    "from pyspark.sql.types import StructType, StructField, IntegerType, StringType, DateType"
   ]
  },
  {
   "cell_type": "code",
   "execution_count": 4,
   "metadata": {},
   "outputs": [],
   "source": [
    "spark = SparkSession.builder.appName('csvIngestWithSchema').getOrCreate()"
   ]
  },
  {
   "cell_type": "code",
   "execution_count": 26,
   "metadata": {},
   "outputs": [],
   "source": [
    "schema = StructType([StructField('id',IntegerType(),False),\n",
    "                    StructField('authorId',IntegerType(),True),\n",
    "                    StructField('bookTitle',StringType(),False),\n",
    "                    StructField('releaseDate',DateType(),True),\n",
    "                    StructField('url', StringType(),False)])"
   ]
  },
  {
   "cell_type": "code",
   "execution_count": 27,
   "metadata": {},
   "outputs": [],
   "source": [
    "df = spark.read.format(\"csv\") \\\n",
    "    .option(\"header\", True) \\\n",
    "    .option(\"multiline\", True) \\\n",
    "    .option(\"sep\", \";\") \\\n",
    "    .option(\"dateFormat\", \"MM/dd/yyyy\") \\\n",
    "    .option(\"quote\", \"*\") \\\n",
    "    .schema(schema) \\\n",
    "    .load('books.csv')"
   ]
  },
  {
   "cell_type": "code",
   "execution_count": 31,
   "metadata": {},
   "outputs": [
    {
     "name": "stdout",
     "output_type": "stream",
     "text": [
      "+---+--------+--------------------+-----------+--------------------+\n",
      "| id|authorId|           bookTitle|releaseDate|                 url|\n",
      "+---+--------+--------------------+-----------+--------------------+\n",
      "|  1|       1|Fantastic Beasts ...| 2016-11-18|http://amzn.to/2k...|\n",
      "|  2|       1|Harry Potter and ...| 2015-10-06|http://amzn.to/2l...|\n",
      "|  3|       1|The Tales of Beed...| 2008-12-04|http://amzn.to/2k...|\n",
      "|  4|       1|Harry Potter and ...| 2016-10-04|http://amzn.to/2k...|\n",
      "|  5|       2|Informix 12.10 on...| 2017-04-23|http://amzn.to/2i...|\n",
      "+---+--------+--------------------+-----------+--------------------+\n",
      "only showing top 5 rows\n",
      "\n"
     ]
    }
   ],
   "source": [
    "df.show(5)"
   ]
  },
  {
   "cell_type": "code",
   "execution_count": 29,
   "metadata": {},
   "outputs": [
    {
     "name": "stdout",
     "output_type": "stream",
     "text": [
      "root\n",
      " |-- id: integer (nullable = true)\n",
      " |-- authorId: integer (nullable = true)\n",
      " |-- bookTitle: string (nullable = true)\n",
      " |-- releaseDate: date (nullable = true)\n",
      " |-- url: string (nullable = true)\n",
      "\n"
     ]
    }
   ],
   "source": [
    "df.printSchema()"
   ]
  },
  {
   "cell_type": "code",
   "execution_count": null,
   "metadata": {},
   "outputs": [],
   "source": []
  }
 ],
 "metadata": {
  "kernelspec": {
   "display_name": "Python 3",
   "language": "python",
   "name": "python3"
  },
  "language_info": {
   "codemirror_mode": {
    "name": "ipython",
    "version": 3
   },
   "file_extension": ".py",
   "mimetype": "text/x-python",
   "name": "python",
   "nbconvert_exporter": "python",
   "pygments_lexer": "ipython3",
   "version": "3.6.9"
  }
 },
 "nbformat": 4,
 "nbformat_minor": 4
}
