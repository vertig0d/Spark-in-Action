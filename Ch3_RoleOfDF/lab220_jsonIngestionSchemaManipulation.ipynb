{
 "cells": [
  {
   "cell_type": "code",
   "execution_count": 1,
   "metadata": {},
   "outputs": [],
   "source": [
    "import findspark\n",
    "findspark.init('/home/gani/spark-2.4.4-bin-hadoop2.7')"
   ]
  },
  {
   "cell_type": "code",
   "execution_count": 2,
   "metadata": {},
   "outputs": [],
   "source": [
    "from pyspark.sql import SparkSession\n",
    "from pyspark.sql.functions import lit, concat, col, split"
   ]
  },
  {
   "cell_type": "code",
   "execution_count": 3,
   "metadata": {},
   "outputs": [],
   "source": [
    "spark = SparkSession.builder.appName('lab220').getOrCreate()"
   ]
  },
  {
   "cell_type": "code",
   "execution_count": 4,
   "metadata": {},
   "outputs": [],
   "source": [
    "df = spark.read.json('Restaurants_in_Durham_County_NC.json')"
   ]
  },
  {
   "cell_type": "code",
   "execution_count": 7,
   "metadata": {},
   "outputs": [
    {
     "name": "stdout",
     "output_type": "stream",
     "text": [
      "+----------------+--------------------+--------------------+--------------------+--------------------+\n",
      "|       datasetid|              fields|            geometry|    record_timestamp|            recordid|\n",
      "+----------------+--------------------+--------------------+--------------------+--------------------+\n",
      "|restaurants-data|[, Full-Service R...|[[-78.9573299, 35...|2017-07-13T09:15:...|1644654b953d1802c...|\n",
      "|restaurants-data|[, Nursing Home, ...|[[-78.8895483, 36...|2017-07-13T09:15:...|93573dbf8c9e799d8...|\n",
      "|restaurants-data|[, Fast Food Rest...|[[-78.9593263, 35...|2017-07-13T09:15:...|0d274200c7cef50d0...|\n",
      "|restaurants-data|[, Full-Service R...|[[-78.9060312, 36...|2017-07-13T09:15:...|cf3e0b175a6ebad2a...|\n",
      "|restaurants-data|[,, [36.0556347, ...|[[-78.9135175, 36...|2017-07-13T09:15:...|e796570677f7c39cc...|\n",
      "+----------------+--------------------+--------------------+--------------------+--------------------+\n",
      "only showing top 5 rows\n",
      "\n"
     ]
    },
    {
     "data": {
      "text/plain": [
       "[Row(datasetid='restaurants-data', fields=Row(closing_date=None, est_group_desc='Full-Service Restaurant', geolocation=[35.9207272, -78.9573299], hours_of_operation=None, id='56060', insp_freq=4, opening_date='1994-09-01', premise_address1='4711 HOPE VALLEY RD', premise_address2='SUITE 6C', premise_city='DURHAM', premise_name='WEST 94TH ST PUB', premise_phone='(919) 403-0025', premise_state='NC', premise_zip='27707', risk=4, rpt_area_desc='Food Service', seats=60, sewage='3 - Municipal/Community', smoking_allowed='NO', status='ACTIVE', transitional_type_desc='FOOD', type_description='1 - Restaurant', water='5 - Municipal/Community'), geometry=Row(coordinates=[-78.9573299, 35.9207272], type='Point'), record_timestamp='2017-07-13T09:15:31-04:00', recordid='1644654b953d1802c3c941211f61be1f727b2951'),\n",
       " Row(datasetid='restaurants-data', fields=Row(closing_date=None, est_group_desc='Nursing Home', geolocation=[36.0467802, -78.8895483], hours_of_operation=None, id='58123', insp_freq=4, opening_date='2003-10-15', premise_address1='4434 BEN FRANKLIN BLVD', premise_address2=None, premise_city='DURHAM', premise_name='BROOKDALE DURHAM IFS', premise_phone='(919) 479-9966', premise_state='NC', premise_zip='27704', risk=4, rpt_area_desc='Food Service', seats=350, sewage='3 - Municipal/Community', smoking_allowed='NO', status='ACTIVE', transitional_type_desc='FOOD', type_description='16 - Institutional Food Service', water='5 - Municipal/Community'), geometry=Row(coordinates=[-78.8895483, 36.0467802], type='Point'), record_timestamp='2017-07-13T09:15:31-04:00', recordid='93573dbf8c9e799d82c459e47de0f40a2faa47bb')]"
      ]
     },
     "execution_count": 7,
     "metadata": {},
     "output_type": "execute_result"
    }
   ],
   "source": [
    "df.show(5)\n",
    "df.head(2)"
   ]
  },
  {
   "cell_type": "code",
   "execution_count": 6,
   "metadata": {},
   "outputs": [
    {
     "name": "stdout",
     "output_type": "stream",
     "text": [
      "root\n",
      " |-- datasetid: string (nullable = true)\n",
      " |-- fields: struct (nullable = true)\n",
      " |    |-- closing_date: string (nullable = true)\n",
      " |    |-- est_group_desc: string (nullable = true)\n",
      " |    |-- geolocation: array (nullable = true)\n",
      " |    |    |-- element: double (containsNull = true)\n",
      " |    |-- hours_of_operation: string (nullable = true)\n",
      " |    |-- id: string (nullable = true)\n",
      " |    |-- insp_freq: long (nullable = true)\n",
      " |    |-- opening_date: string (nullable = true)\n",
      " |    |-- premise_address1: string (nullable = true)\n",
      " |    |-- premise_address2: string (nullable = true)\n",
      " |    |-- premise_city: string (nullable = true)\n",
      " |    |-- premise_name: string (nullable = true)\n",
      " |    |-- premise_phone: string (nullable = true)\n",
      " |    |-- premise_state: string (nullable = true)\n",
      " |    |-- premise_zip: string (nullable = true)\n",
      " |    |-- risk: long (nullable = true)\n",
      " |    |-- rpt_area_desc: string (nullable = true)\n",
      " |    |-- seats: long (nullable = true)\n",
      " |    |-- sewage: string (nullable = true)\n",
      " |    |-- smoking_allowed: string (nullable = true)\n",
      " |    |-- status: string (nullable = true)\n",
      " |    |-- transitional_type_desc: string (nullable = true)\n",
      " |    |-- type_description: string (nullable = true)\n",
      " |    |-- water: string (nullable = true)\n",
      " |-- geometry: struct (nullable = true)\n",
      " |    |-- coordinates: array (nullable = true)\n",
      " |    |    |-- element: double (containsNull = true)\n",
      " |    |-- type: string (nullable = true)\n",
      " |-- record_timestamp: string (nullable = true)\n",
      " |-- recordid: string (nullable = true)\n",
      "\n"
     ]
    }
   ],
   "source": [
    "df.printSchema()"
   ]
  },
  {
   "cell_type": "code",
   "execution_count": 10,
   "metadata": {},
   "outputs": [],
   "source": [
    "df = df.withColumn('county', lit('Durham')) \\\n",
    "        .withColumn('datasetId', col('fields.id')) \\\n",
    "        .withColumn('name', col('fields.premise_name')) \\\n",
    "        .withColumn('address1', col('fields.premise_address1')) \\\n",
    "        .withColumn('address2', col('fields.premise_address2')) \\\n",
    "        .withColumn('city', col('fields.premise_city')) \\\n",
    "        .withColumn('state', col('fields.premise_state')) \\\n",
    "        .withColumn('zip', col('fields.premise_zip')) \\\n",
    "        .withColumn('tel', col('fields.premise_phone')) \\\n",
    "        .withColumn('dateStart', col('fields.opening_date')) \\\n",
    "        .withColumn('dateEnd', col('fields.closing_date')) \\\n",
    "        .withColumn('type', split(col('fields.type_description'), '-').getItem(1)) \\\n",
    "        .withColumn('geoX', col('fields.geolocation').getItem(0)) \\\n",
    "        .withColumn('geoY', col('fields.geolocation').getItem(1))"
   ]
  },
  {
   "cell_type": "code",
   "execution_count": 11,
   "metadata": {},
   "outputs": [],
   "source": [
    "df = df.withColumn('id', concat(col('state'), lit('-_'), \n",
    "                                col('county'), lit('_'), col('datasetId')))"
   ]
  },
  {
   "cell_type": "code",
   "execution_count": 12,
   "metadata": {},
   "outputs": [
    {
     "name": "stdout",
     "output_type": "stream",
     "text": [
      "+---------+--------------------+--------------------+--------------------+--------------------+------+--------------------+--------------------+--------+------+-----+-----+--------------+----------+-------+--------------------+----------+-----------+----------------+\n",
      "|datasetId|              fields|            geometry|    record_timestamp|            recordid|county|                name|            address1|address2|  city|state|  zip|           tel| dateStart|dateEnd|                type|      geoX|       geoY|              id|\n",
      "+---------+--------------------+--------------------+--------------------+--------------------+------+--------------------+--------------------+--------+------+-----+-----+--------------+----------+-------+--------------------+----------+-----------+----------------+\n",
      "|    56060|[, Full-Service R...|[[-78.9573299, 35...|2017-07-13T09:15:...|1644654b953d1802c...|Durham|    WEST 94TH ST PUB| 4711 HOPE VALLEY RD|SUITE 6C|DURHAM|   NC|27707|(919) 403-0025|1994-09-01|   null|          Restaurant|35.9207272|-78.9573299|NC-_Durham_56060|\n",
      "|    58123|[, Nursing Home, ...|[[-78.8895483, 36...|2017-07-13T09:15:...|93573dbf8c9e799d8...|Durham|BROOKDALE DURHAM IFS|4434 BEN FRANKLIN...|    null|DURHAM|   NC|27704|(919) 479-9966|2003-10-15|   null| Institutional Fo...|36.0467802|-78.8895483|NC-_Durham_58123|\n",
      "|    70266|[, Fast Food Rest...|[[-78.9593263, 35...|2017-07-13T09:15:...|0d274200c7cef50d0...|Durham|       SMOOTHIE KING|1125 W. NC HWY 54...|    null|DURHAM|   NC|27707|(919) 489-7300|2009-07-09|   null|          Restaurant|35.9182655|-78.9593263|NC-_Durham_70266|\n",
      "|    97837|[, Full-Service R...|[[-78.9060312, 36...|2017-07-13T09:15:...|cf3e0b175a6ebad2a...|Durham|HAMPTON INN & SUITES|   1542 N GREGSON ST|    null|DURHAM|   NC|27701|(919) 688-8880|2012-01-09|   null|          Restaurant|36.0183378|-78.9060312|NC-_Durham_97837|\n",
      "|    60690|[,, [36.0556347, ...|[[-78.9135175, 36...|2017-07-13T09:15:...|e796570677f7c39cc...|Durham|BETTER LIVING CON...|       909 GARCIA ST|    null|DURHAM|   NC|27704|(919) 477-5825|2008-06-02|   null|    Residential Care|36.0556347|-78.9135175|NC-_Durham_60690|\n",
      "+---------+--------------------+--------------------+--------------------+--------------------+------+--------------------+--------------------+--------+------+-----+-----+--------------+----------+-------+--------------------+----------+-----------+----------------+\n",
      "only showing top 5 rows\n",
      "\n"
     ]
    }
   ],
   "source": [
    "df.show(5)"
   ]
  },
  {
   "cell_type": "code",
   "execution_count": 13,
   "metadata": {},
   "outputs": [
    {
     "name": "stdout",
     "output_type": "stream",
     "text": [
      "root\n",
      " |-- datasetId: string (nullable = true)\n",
      " |-- fields: struct (nullable = true)\n",
      " |    |-- closing_date: string (nullable = true)\n",
      " |    |-- est_group_desc: string (nullable = true)\n",
      " |    |-- geolocation: array (nullable = true)\n",
      " |    |    |-- element: double (containsNull = true)\n",
      " |    |-- hours_of_operation: string (nullable = true)\n",
      " |    |-- id: string (nullable = true)\n",
      " |    |-- insp_freq: long (nullable = true)\n",
      " |    |-- opening_date: string (nullable = true)\n",
      " |    |-- premise_address1: string (nullable = true)\n",
      " |    |-- premise_address2: string (nullable = true)\n",
      " |    |-- premise_city: string (nullable = true)\n",
      " |    |-- premise_name: string (nullable = true)\n",
      " |    |-- premise_phone: string (nullable = true)\n",
      " |    |-- premise_state: string (nullable = true)\n",
      " |    |-- premise_zip: string (nullable = true)\n",
      " |    |-- risk: long (nullable = true)\n",
      " |    |-- rpt_area_desc: string (nullable = true)\n",
      " |    |-- seats: long (nullable = true)\n",
      " |    |-- sewage: string (nullable = true)\n",
      " |    |-- smoking_allowed: string (nullable = true)\n",
      " |    |-- status: string (nullable = true)\n",
      " |    |-- transitional_type_desc: string (nullable = true)\n",
      " |    |-- type_description: string (nullable = true)\n",
      " |    |-- water: string (nullable = true)\n",
      " |-- geometry: struct (nullable = true)\n",
      " |    |-- coordinates: array (nullable = true)\n",
      " |    |    |-- element: double (containsNull = true)\n",
      " |    |-- type: string (nullable = true)\n",
      " |-- record_timestamp: string (nullable = true)\n",
      " |-- recordid: string (nullable = true)\n",
      " |-- county: string (nullable = false)\n",
      " |-- name: string (nullable = true)\n",
      " |-- address1: string (nullable = true)\n",
      " |-- address2: string (nullable = true)\n",
      " |-- city: string (nullable = true)\n",
      " |-- state: string (nullable = true)\n",
      " |-- zip: string (nullable = true)\n",
      " |-- tel: string (nullable = true)\n",
      " |-- dateStart: string (nullable = true)\n",
      " |-- dateEnd: string (nullable = true)\n",
      " |-- type: string (nullable = true)\n",
      " |-- geoX: double (nullable = true)\n",
      " |-- geoY: double (nullable = true)\n",
      " |-- id: string (nullable = true)\n",
      "\n"
     ]
    }
   ],
   "source": [
    "df.printSchema()"
   ]
  },
  {
   "cell_type": "code",
   "execution_count": null,
   "metadata": {},
   "outputs": [],
   "source": []
  }
 ],
 "metadata": {
  "kernelspec": {
   "display_name": "Python 3",
   "language": "python",
   "name": "python3"
  },
  "language_info": {
   "codemirror_mode": {
    "name": "ipython",
    "version": 3
   },
   "file_extension": ".py",
   "mimetype": "text/x-python",
   "name": "python",
   "nbconvert_exporter": "python",
   "pygments_lexer": "ipython3",
   "version": "3.6.9"
  }
 },
 "nbformat": 4,
 "nbformat_minor": 4
}
