{
 "cells": [
  {
   "cell_type": "code",
   "execution_count": 2,
   "metadata": {},
   "outputs": [],
   "source": [
    "import findspark\n",
    "findspark.init('/home/gani/spark-2.4.4-bin-hadoop2.7')"
   ]
  },
  {
   "cell_type": "code",
   "execution_count": 3,
   "metadata": {},
   "outputs": [],
   "source": [
    "from pyspark.sql import SparkSession\n",
    "from pyspark.sql.functions import lit, concat, col, split"
   ]
  },
  {
   "cell_type": "code",
   "execution_count": 10,
   "metadata": {},
   "outputs": [],
   "source": [
    "def wakeRestaurantDF(df):\n",
    "    drop_cols = ['OBJECTID','GEOCODESTATUS','PERMITID']\n",
    "    df = df.withColumn(\"county\", lit(\"Wake\")) \\\n",
    "        .withColumnRenamed(\"HSISID\", \"datasetId\") \\\n",
    "        .withColumnRenamed(\"NAME\", \"name\") \\\n",
    "        .withColumnRenamed(\"ADDRESS1\", \"address1\") \\\n",
    "        .withColumnRenamed(\"ADDRESS2\", \"address2\") \\\n",
    "        .withColumnRenamed(\"CITY\", \"city\") \\\n",
    "        .withColumnRenamed(\"STATE\", \"state\") \\\n",
    "        .withColumnRenamed(\"POSTALCODE\", \"zip\") \\\n",
    "        .withColumnRenamed(\"PHONENUMBER\", \"tel\") \\\n",
    "        .withColumnRenamed(\"RESTAURANTOPENDATE\", \"dateStart\") \\\n",
    "        .withColumn(\"dateEnd\", lit(None)) \\\n",
    "        .withColumnRenamed(\"FACILITYTYPE\", \"type\") \\\n",
    "        .withColumnRenamed(\"X\", \"geoX\") \\\n",
    "        .withColumnRenamed(\"Y\", \"geoY\") \\\n",
    "        .drop(*drop_cols)\n",
    "    df = df.withColumn(\"id\",\n",
    "                       concat(col(\"state\"), lit(\"_\"), col(\"county\"), lit(\"_\"), col(\"datasetId\")))\n",
    "    return df"
   ]
  },
  {
   "cell_type": "code",
   "execution_count": 11,
   "metadata": {},
   "outputs": [],
   "source": [
    "def durhamRestaurantsDF(df):\n",
    "    drop_cols = [\"fields\", \"geometry\", \"record_timestamp\", \"recordid\"]\n",
    "    df =  df.withColumn(\"county\", lit(\"Durham\")) \\\n",
    "            .withColumn(\"datasetId\", col(\"fields.id\")) \\\n",
    "            .withColumn(\"name\", col(\"fields.premise_name\")) \\\n",
    "            .withColumn(\"address1\", col(\"fields.premise_address1\")) \\\n",
    "            .withColumn(\"address2\", col(\"fields.premise_address2\")) \\\n",
    "            .withColumn(\"city\", col(\"fields.premise_city\")) \\\n",
    "            .withColumn(\"state\", col(\"fields.premise_state\")) \\\n",
    "            .withColumn(\"zip\", col(\"fields.premise_zip\")) \\\n",
    "            .withColumn(\"tel\", col(\"fields.premise_phone\")) \\\n",
    "            .withColumn(\"dateStart\", col(\"fields.opening_date\")) \\\n",
    "            .withColumn(\"dateEnd\", col(\"fields.closing_date\")) \\\n",
    "            .withColumn(\"type\", split(col(\"fields.type_description\"), \" - \").getItem(1)) \\\n",
    "            .withColumn(\"geoX\", col(\"fields.geolocation\").getItem(0)) \\\n",
    "            .withColumn(\"geoY\", col(\"fields.geolocation\").getItem(1)) \\\n",
    "            .drop(*drop_cols)\n",
    "\n",
    "    df = df.withColumn(\"id\",\n",
    "                       concat(col(\"state\"), lit(\"_\"), col(\"county\"), lit(\"_\"), col(\"datasetId\")))\n",
    "    return df"
   ]
  },
  {
   "cell_type": "code",
   "execution_count": 14,
   "metadata": {},
   "outputs": [],
   "source": [
    "def combineDf(df1,df2):\n",
    "    df = df1.unionByName(df2)\n",
    "    df.show(5)\n",
    "    df.printSchema()"
   ]
  },
  {
   "cell_type": "code",
   "execution_count": 5,
   "metadata": {},
   "outputs": [],
   "source": [
    "spark = SparkSession.builder.appName('dfUnion').getOrCreate()"
   ]
  },
  {
   "cell_type": "code",
   "execution_count": 6,
   "metadata": {},
   "outputs": [],
   "source": [
    "df1 = spark.read.csv('Restaurants_in_Wake_County_NC.csv',inferSchema=True,header=True)\n",
    "df2 = spark.read.json('Restaurants_in_Durham_County_NC.json')"
   ]
  },
  {
   "cell_type": "code",
   "execution_count": 12,
   "metadata": {},
   "outputs": [],
   "source": [
    "wakeDF = wakeRestaurantDF(df1)"
   ]
  },
  {
   "cell_type": "code",
   "execution_count": 13,
   "metadata": {},
   "outputs": [],
   "source": [
    "durhamDF = durhamRestaurantsDF(df2)"
   ]
  },
  {
   "cell_type": "code",
   "execution_count": 15,
   "metadata": {},
   "outputs": [
    {
     "name": "stdout",
     "output_type": "stream",
     "text": [
      "+----------+--------------------+--------------------+--------+-----------+-----+----------+--------------+-------------------+-----------------+------------+-----------+------+-------+------------------+\n",
      "| datasetId|                name|            address1|address2|       city|state|       zip|           tel|          dateStart|             type|        geoX|       geoY|county|dateEnd|                id|\n",
      "+----------+--------------------+--------------------+--------+-----------+-----+----------+--------------+-------------------+-----------------+------------+-----------+------+-------+------------------+\n",
      "|4092016024|                WABA|2502 1/2 HILLSBOR...|    null|    RALEIGH|   NC|     27607|(919) 833-1710|2011-10-18 05:30:00|       Restaurant|-78.66818477|35.78783803|  Wake|   null|NC_Wake_4092016024|\n",
      "|4092021693|  WALMART DELI #2247|2010 KILDAIRE FAR...|    null|       CARY|   NC|     27518|(919) 852-6651|2011-11-08 05:30:00|       Food Stand|-78.78211173|35.73717591|  Wake|   null|NC_Wake_4092021693|\n",
      "|4092017012|CAROLINA SUSHI &a...|5951-107 POYNER V...|    null|    RALEIGH|   NC|     27616|(919) 981-5835|2015-08-28 05:30:00|       Restaurant|-78.57030208|35.86511564|  Wake|   null|NC_Wake_4092017012|\n",
      "|4092030288|THE CORNER VENEZU...|    7500 RAMBLE WAY |    null|    RALEIGH|   NC|     27616|          null|2015-09-04 05:30:00|Mobile Food Units|  -78.537511|35.87630712|  Wake|   null|NC_Wake_4092030288|\n",
      "|4092015530|        SUBWAY #3726| 12233 CAPITAL BLVD |    null|WAKE FOREST|   NC|27587-6200|(919) 556-8266|2009-12-11 05:30:00|       Restaurant|-78.54097555|35.98087357|  Wake|   null|NC_Wake_4092015530|\n",
      "+----------+--------------------+--------------------+--------+-----------+-----+----------+--------------+-------------------+-----------------+------------+-----------+------+-------+------------------+\n",
      "only showing top 5 rows\n",
      "\n",
      "root\n",
      " |-- datasetId: string (nullable = true)\n",
      " |-- name: string (nullable = true)\n",
      " |-- address1: string (nullable = true)\n",
      " |-- address2: string (nullable = true)\n",
      " |-- city: string (nullable = true)\n",
      " |-- state: string (nullable = true)\n",
      " |-- zip: string (nullable = true)\n",
      " |-- tel: string (nullable = true)\n",
      " |-- dateStart: string (nullable = true)\n",
      " |-- type: string (nullable = true)\n",
      " |-- geoX: double (nullable = true)\n",
      " |-- geoY: double (nullable = true)\n",
      " |-- county: string (nullable = false)\n",
      " |-- dateEnd: string (nullable = true)\n",
      " |-- id: string (nullable = true)\n",
      "\n"
     ]
    }
   ],
   "source": [
    "combineDf(wakeDF, durhamDF)"
   ]
  },
  {
   "cell_type": "code",
   "execution_count": null,
   "metadata": {},
   "outputs": [],
   "source": []
  }
 ],
 "metadata": {
  "kernelspec": {
   "display_name": "Python 3",
   "language": "python",
   "name": "python3"
  },
  "language_info": {
   "codemirror_mode": {
    "name": "ipython",
    "version": 3
   },
   "file_extension": ".py",
   "mimetype": "text/x-python",
   "name": "python",
   "nbconvert_exporter": "python",
   "pygments_lexer": "ipython3",
   "version": "3.6.9"
  }
 },
 "nbformat": 4,
 "nbformat_minor": 4
}
